{
 "cells": [
  {
   "cell_type": "markdown",
   "metadata": {
    "editable": true
   },
   "source": [
    "# Part I. ETL Pipeline for Pre-Processing the Files"
   ]
  },
  {
   "cell_type": "markdown",
   "metadata": {
    "editable": true
   },
   "source": [
    "## The following code is to preprocess the .CSV files containing the data."
   ]
  },
  {
   "cell_type": "markdown",
   "metadata": {
    "editable": true
   },
   "source": [
    "#### Import Python packages "
   ]
  },
  {
   "cell_type": "code",
   "execution_count": 71,
   "metadata": {
    "editable": true
   },
   "outputs": [],
   "source": [
    "# Import Python packages \n",
    "import pandas as pd\n",
    "import cassandra\n",
    "import re\n",
    "import os\n",
    "import glob\n",
    "import numpy as np\n",
    "import json\n",
    "import csv"
   ]
  },
  {
   "cell_type": "markdown",
   "metadata": {
    "editable": true
   },
   "source": [
    "#### Creating list of filepaths to process original event csv data files"
   ]
  },
  {
   "cell_type": "code",
   "execution_count": 74,
   "metadata": {
    "editable": true
   },
   "outputs": [],
   "source": [
    "# Get your current folder and subfolder event data\n",
    "filepath = os.getcwd() + '/event_data'\n",
    "\n",
    "# Create a for loop to create a list of files and collect each filepath\n",
    "for root, dirs, files in os.walk(filepath):\n",
    "    \n",
    "# join the file path and roots with the subdirectories using glob\n",
    "    file_path_list = glob.glob(os.path.join(root,'*'))"
   ]
  },
  {
   "cell_type": "markdown",
   "metadata": {
    "editable": true
   },
   "source": [
    "#### Processing the files to create the data file csv that will be used for Apache Casssandra tables"
   ]
  },
  {
   "cell_type": "code",
   "execution_count": 75,
   "metadata": {
    "editable": true
   },
   "outputs": [],
   "source": [
    "# initiating an empty list of rows that will be generated from each file\n",
    "full_data_rows_list = [] \n",
    "    \n",
    "# for every filepath in the file path list \n",
    "for f in file_path_list:\n",
    "\n",
    "# reading csv file \n",
    "    with open(f, 'r', encoding = 'utf8', newline='') as csvfile: \n",
    "        # creating a csv reader object \n",
    "        csvreader = csv.reader(csvfile) \n",
    "        next(csvreader)\n",
    "        \n",
    " # extracting each data row one by one and append it        \n",
    "        for line in csvreader:\n",
    "            #print(line)\n",
    "            full_data_rows_list.append(line) \n",
    "\n",
    "# creating a smaller event data csv file called event_datafile_full csv that will be used to insert data into the \\\n",
    "# Apache Cassandra tables\n",
    "csv.register_dialect('myDialect', quoting=csv.QUOTE_ALL, skipinitialspace=True)\n",
    "\n",
    "with open('event_datafile_new.csv', 'w', encoding = 'utf8', newline='') as f:\n",
    "    writer = csv.writer(f, dialect='myDialect')\n",
    "    writer.writerow(['artist','firstName','gender','itemInSession','lastName','length',\\\n",
    "                'level','location','sessionId','song','userId'])\n",
    "    for row in full_data_rows_list:\n",
    "        if (row[0] == ''):\n",
    "            continue\n",
    "        writer.writerow((row[0], row[2], row[3], row[4], row[5], row[6], row[7], row[8], row[12], row[13], row[16]))\n"
   ]
  },
  {
   "cell_type": "markdown",
   "metadata": {
    "editable": true
   },
   "source": [
    "# Part II. Create tables to answer specific question in Apache Cassandra and load data into those tables. \n",
    "\n",
    "## The event_datafile_new.csv created in PART-I contains the following columns: \n",
    "- artist \n",
    "- firstName of user\n",
    "- gender of user\n",
    "- item number in session\n",
    "- last name of user\n",
    "- length of the song\n",
    "- level (paid or free song)\n",
    "- location of the user\n",
    "- sessionId\n",
    "- song title\n",
    "- userId\n",
    "\n",
    "The image below is a screenshot of what the denormalized data should appear like in the <font color=red>**event_datafile_new.csv**</font> after the code above is run:<br>\n",
    "\n",
    "<img src=\"images/image_event_datafile_new.jpg\">"
   ]
  },
  {
   "cell_type": "markdown",
   "metadata": {
    "editable": true
   },
   "source": [
    "## Apache Cassandra code starts below"
   ]
  },
  {
   "cell_type": "markdown",
   "metadata": {
    "editable": true
   },
   "source": [
    "#### Creating a Cluster"
   ]
  },
  {
   "cell_type": "code",
   "execution_count": 78,
   "metadata": {
    "editable": true
   },
   "outputs": [],
   "source": [
    "# Connect to Cassandra cluster\n",
    "# (127.0.0.1)\n",
    "\n",
    "from cassandra.cluster import Cluster\n",
    "try:\n",
    "    #connect to the local cluster and create a session to execute queries\n",
    "    cluster = Cluster(['127.0.0.1'])\n",
    "    session = cluster.connect()\n",
    "except Exception as e:\n",
    "    print(\"Error while trying to create cluster\")\n",
    "    print(e)"
   ]
  },
  {
   "cell_type": "markdown",
   "metadata": {
    "editable": true
   },
   "source": [
    "#### Create Keyspace"
   ]
  },
  {
   "cell_type": "code",
   "execution_count": 79,
   "metadata": {
    "editable": true
   },
   "outputs": [],
   "source": [
    "# Create the Keyspace:sparkify \n",
    "try:\n",
    "    session.execute(\"\"\"\n",
    "    CREATE KEYSPACE IF NOT EXISTS sparkify\n",
    "    WITH REPLICATION = \n",
    "    {'class':'SimpleStrategy','replication_factor':1}\"\"\"\n",
    ")\n",
    "except Exception as e:\n",
    "    print(\"Error while trying to create keyspace\")\n",
    "    print(e)"
   ]
  },
  {
   "cell_type": "markdown",
   "metadata": {
    "editable": true
   },
   "source": [
    "#### Set Keyspace"
   ]
  },
  {
   "cell_type": "code",
   "execution_count": 80,
   "metadata": {
    "editable": true
   },
   "outputs": [],
   "source": [
    "# Set keyspace to sparkify\n",
    "try:\n",
    "    session.set_keyspace('sparkify')\n",
    "except Exception as e:\n",
    "    print(\"Error while setting keyspace\")\n",
    "    print(e)"
   ]
  },
  {
   "cell_type": "markdown",
   "metadata": {
    "editable": true
   },
   "source": [
    "## The first table created below will be used to search the song that was played in a specific session and in a specific sequence number in that session. For example, \n",
    "## *Give me the artist, song title and song's length in the music app history that was heard during  sessionId = 338, and itemInSession  = 4*\n",
    "\n",
    "### Table Name: *song_played*\n",
    "\n",
    "* The table ***song_played*** will be created with ***session_id*** as the PARTITION KEY since this query will be mainly searching based on Session IDs.\n",
    "* The table will have ***item_in_session*** as the CLUSTERING COLUMN, because multiple songs can be played within a session. \n",
    "* The combination of ***session_id*** and ***item_in_session*** will result in a unique identifier of each song played in a session.  "
   ]
  },
  {
   "cell_type": "code",
   "execution_count": 81,
   "metadata": {
    "editable": true
   },
   "outputs": [],
   "source": [
    "#build and execute CREATE query\n",
    "query = \"CREATE TABLE IF NOT EXISTS song_played\"\n",
    "query = query + \"(session_id int,item_in_session int,title text,artist text,length double, PRIMARY KEY(session_id,item_in_session))\"\n",
    "try:\n",
    "    session.execute(query)\n",
    "except Exception as e:\n",
    "    print(\"Error while creating song_played table\")\n",
    "    print(e)                    "
   ]
  },
  {
   "cell_type": "code",
   "execution_count": 82,
   "metadata": {
    "editable": true
   },
   "outputs": [],
   "source": [
    "file = 'event_datafile_new.csv'\n",
    "\n",
    "#open file\n",
    "with open(file, encoding = 'utf8') as f:\n",
    "    csvreader = csv.reader(f)\n",
    "    next(csvreader) # skip header\n",
    "#read content line by line\n",
    "    for line in csvreader:\n",
    "        #build INSERT query\n",
    "        query = \"INSERT INTO song_played (session_id,item_in_session,title,artist,length)\"\n",
    "        query = query + \"VALUES (%s,%s,%s,%s,%s)\"\n",
    "        try:\n",
    "            #execute INSERT with values from the current line read from the file\n",
    "            session.execute(query,(int(line[8]),int(line[3]),line[9],line[0],float(line[5])))\n",
    "        except Exception as e:\n",
    "            print(\"Error while inserting SessionID: {} and ItemId: {}\".format(line[8],line[3]))\n",
    "            print(e)"
   ]
  },
  {
   "cell_type": "markdown",
   "metadata": {
    "editable": true
   },
   "source": [
    "### Query the table created and loaded above to validate data"
   ]
  },
  {
   "cell_type": "code",
   "execution_count": 86,
   "metadata": {
    "editable": true,
    "scrolled": true
   },
   "outputs": [
    {
     "data": {
      "text/html": [
       "<div>\n",
       "<style scoped>\n",
       "    .dataframe tbody tr th:only-of-type {\n",
       "        vertical-align: middle;\n",
       "    }\n",
       "\n",
       "    .dataframe tbody tr th {\n",
       "        vertical-align: top;\n",
       "    }\n",
       "\n",
       "    .dataframe thead th {\n",
       "        text-align: right;\n",
       "    }\n",
       "</style>\n",
       "<table border=\"1\" class=\"dataframe\">\n",
       "  <thead>\n",
       "    <tr style=\"text-align: right;\">\n",
       "      <th></th>\n",
       "      <th>Session</th>\n",
       "      <th>Item in Session</th>\n",
       "      <th>Song</th>\n",
       "      <th>Artist</th>\n",
       "      <th>Song</th>\n",
       "    </tr>\n",
       "  </thead>\n",
       "  <tbody>\n",
       "    <tr>\n",
       "      <th>0</th>\n",
       "      <td>139</td>\n",
       "      <td>4</td>\n",
       "      <td>Quem Quiser Encontrar O Amor</td>\n",
       "      <td>Tamba Trio</td>\n",
       "      <td>177.18812</td>\n",
       "    </tr>\n",
       "  </tbody>\n",
       "</table>\n",
       "</div>"
      ],
      "text/plain": [
       "   Session  Item in Session                          Song      Artist  \\\n",
       "0      139                4  Quem Quiser Encontrar O Amor  Tamba Trio   \n",
       "\n",
       "        Song  \n",
       "0  177.18812  "
      ]
     },
     "execution_count": 86,
     "metadata": {},
     "output_type": "execute_result"
    }
   ],
   "source": [
    "## Build SELECT query to validate data loaded above\n",
    "query = \"SELECT session_id,item_in_session,title,artist,length \"\n",
    "query = query + \"FROM song_played \"\n",
    "query = query + \"WHERE session_id=139 \"\n",
    "query = query + \"AND item_in_session=4\"\n",
    "\n",
    "#execute query\n",
    "try:\n",
    "    rows = session.execute(query)\n",
    "except Exception as e:\n",
    "    print(\"Error while querying song_played\")\n",
    "    print(e)\n",
    "\n",
    "#convert results inta a Data Frame\n",
    "result = pd.DataFrame(list(rows),columns=['Session','Item in Session','Song','Artist','Song'])\n",
    "result"
   ]
  },
  {
   "cell_type": "markdown",
   "metadata": {
    "editable": true
   },
   "source": [
    "## The second table created below will be used to get the list all songs played  by a specific user in a specific session. For example, \n",
    "## *Give me only the following: name of artist, song (sorted by itemInSession) and user (first and last name) for userid = 10, sessionid = 182*\n",
    "\n",
    "### Table Name: *all_songs_played_in_session*\n",
    "\n",
    "* The table ***all_songs_played_in_session*** will be created with ***user_id & session_id*** as the PARTITION KEY since this query will be mainly searching based on these columns.\n",
    "* The table will have ***item_in_session*** as the CLUSTERING COLUMN, because multiple songs could be played within a session by a user. It also serves the purpose of sorting the songs played by their sequence number. \n",
    "* The combination of ***session_id***, ***user_id***, and ***item_in_session*** will result in a unique identifier of each song played in a session by a user. "
   ]
  },
  {
   "cell_type": "code",
   "execution_count": 87,
   "metadata": {
    "editable": true
   },
   "outputs": [],
   "source": [
    "#build and execute CREATE query\n",
    "query = \"CREATE TABLE IF NOT EXISTS all_songs_played_in_session\"\n",
    "query = query + \"(session_id int,user_id int,item_in_session int,artist text,title text,fname text, lname text, \"\n",
    "query = query + \"PRIMARY KEY((user_id,session_id),item_in_session))\"\n",
    "try:\n",
    "    session.execute(query)\n",
    "except Exception as e:\n",
    "    print(\"Error while creating all_songs_played_in_session table\")\n",
    "    print(e)                    "
   ]
  },
  {
   "cell_type": "code",
   "execution_count": 88,
   "metadata": {
    "editable": true
   },
   "outputs": [],
   "source": [
    "#open file\n",
    "with open(file, encoding = 'utf8') as f:\n",
    "    csvreader = csv.reader(f)\n",
    "    next(csvreader) # skip header\n",
    "#read content line by line\n",
    "    for line in csvreader:\n",
    "        #build INSERT query\n",
    "        query = \"INSERT INTO all_songs_played_in_session (session_id,user_id,item_in_session,artist,title,fname,lname)\"\n",
    "        query = query + \"VALUES (%s,%s,%s,%s,%s,%s,%s)\"\n",
    "        try:\n",
    "            #execute INSERT with values from the current line read from the file\n",
    "            session.execute(query,(int(line[8]),int(line[10]),int(line[3]),line[0],line[9],line[1],line[4]))\n",
    "        except Exception as e:\n",
    "            print(\"Error while inserting SessionID: {}, UserID: {}, and Item:{}\".format(line[8],line[10],line[3]))\n",
    "            print(e)"
   ]
  },
  {
   "cell_type": "markdown",
   "metadata": {
    "editable": true
   },
   "source": [
    "### Query the table created and loaded above to validate data"
   ]
  },
  {
   "cell_type": "code",
   "execution_count": 90,
   "metadata": {
    "editable": true
   },
   "outputs": [
    {
     "data": {
      "text/html": [
       "<div>\n",
       "<style scoped>\n",
       "    .dataframe tbody tr th:only-of-type {\n",
       "        vertical-align: middle;\n",
       "    }\n",
       "\n",
       "    .dataframe tbody tr th {\n",
       "        vertical-align: top;\n",
       "    }\n",
       "\n",
       "    .dataframe thead th {\n",
       "        text-align: right;\n",
       "    }\n",
       "</style>\n",
       "<table border=\"1\" class=\"dataframe\">\n",
       "  <thead>\n",
       "    <tr style=\"text-align: right;\">\n",
       "      <th></th>\n",
       "      <th>Artist</th>\n",
       "      <th>Song Title</th>\n",
       "      <th>User First Name</th>\n",
       "      <th>User Last Name</th>\n",
       "    </tr>\n",
       "  </thead>\n",
       "  <tbody>\n",
       "    <tr>\n",
       "      <th>0</th>\n",
       "      <td>Des'ree</td>\n",
       "      <td>You Gotta Be</td>\n",
       "      <td>Kaylee</td>\n",
       "      <td>Summers</td>\n",
       "    </tr>\n",
       "    <tr>\n",
       "      <th>1</th>\n",
       "      <td>Mr Oizo</td>\n",
       "      <td>Flat 55</td>\n",
       "      <td>Kaylee</td>\n",
       "      <td>Summers</td>\n",
       "    </tr>\n",
       "    <tr>\n",
       "      <th>2</th>\n",
       "      <td>Tamba Trio</td>\n",
       "      <td>Quem Quiser Encontrar O Amor</td>\n",
       "      <td>Kaylee</td>\n",
       "      <td>Summers</td>\n",
       "    </tr>\n",
       "    <tr>\n",
       "      <th>3</th>\n",
       "      <td>The Mars Volta</td>\n",
       "      <td>Eriatarka</td>\n",
       "      <td>Kaylee</td>\n",
       "      <td>Summers</td>\n",
       "    </tr>\n",
       "    <tr>\n",
       "      <th>4</th>\n",
       "      <td>Infected Mushroom</td>\n",
       "      <td>Becoming Insane</td>\n",
       "      <td>Kaylee</td>\n",
       "      <td>Summers</td>\n",
       "    </tr>\n",
       "    <tr>\n",
       "      <th>5</th>\n",
       "      <td>Blue October / Imogen Heap</td>\n",
       "      <td>Congratulations</td>\n",
       "      <td>Kaylee</td>\n",
       "      <td>Summers</td>\n",
       "    </tr>\n",
       "    <tr>\n",
       "      <th>6</th>\n",
       "      <td>Girl Talk</td>\n",
       "      <td>Once again</td>\n",
       "      <td>Kaylee</td>\n",
       "      <td>Summers</td>\n",
       "    </tr>\n",
       "  </tbody>\n",
       "</table>\n",
       "</div>"
      ],
      "text/plain": [
       "                       Artist                    Song Title User First Name  \\\n",
       "0                     Des'ree                  You Gotta Be          Kaylee   \n",
       "1                     Mr Oizo                       Flat 55          Kaylee   \n",
       "2                  Tamba Trio  Quem Quiser Encontrar O Amor          Kaylee   \n",
       "3              The Mars Volta                     Eriatarka          Kaylee   \n",
       "4           Infected Mushroom               Becoming Insane          Kaylee   \n",
       "5  Blue October / Imogen Heap               Congratulations          Kaylee   \n",
       "6                   Girl Talk                    Once again          Kaylee   \n",
       "\n",
       "  User Last Name  \n",
       "0        Summers  \n",
       "1        Summers  \n",
       "2        Summers  \n",
       "3        Summers  \n",
       "4        Summers  \n",
       "5        Summers  \n",
       "6        Summers  "
      ]
     },
     "execution_count": 90,
     "metadata": {},
     "output_type": "execute_result"
    }
   ],
   "source": [
    "## Build SELECT query to validate data loaded above\n",
    "query = \"SELECT artist,title,fname,lname \"\n",
    "query = query + \"FROM all_songs_played_in_session \"\n",
    "query = query + \"WHERE user_id=8 \"\n",
    "query = query + \"AND session_id=139\"\n",
    "\n",
    "#execute query\n",
    "try:\n",
    "    rows = session.execute(query)\n",
    "except Exception as e:\n",
    "    print(\"Error while querying song_played\")\n",
    "    print(e)\n",
    "\n",
    "#convert results inta DataFrame for better presentation\n",
    "result = pd.DataFrame(list(rows),columns=['Artist','Song Title','User First Name','User Last Name'])\n",
    "result"
   ]
  },
  {
   "cell_type": "markdown",
   "metadata": {
    "editable": true
   },
   "source": [
    "## The third table created below will be used to query list of all users who played a specific song. For example, \n",
    "## *Give me every user name (first and last) in my music app history who listened to the song 'All Hands Against His Own'*\n",
    "\n",
    "### Table Name: *all_users_who_played_song*\n",
    "\n",
    "* The table ***all_users_who_played_song*** will be created with ***title*** as the CLUSTERING KEY since this query will be mainly searching based on specific song.\n",
    "* The table will have ***session_id*** as the CLUSTERING COLUMN. \n",
    "* Though there is a possibility of a user playing a song multiple times within a session there is no need to capture that detail. \n",
    "* This table is only meant to search which users played a song; how times they played a song does not matter in this context. "
   ]
  },
  {
   "cell_type": "code",
   "execution_count": 91,
   "metadata": {
    "editable": true
   },
   "outputs": [],
   "source": [
    "#build and execute CREATE query\n",
    "query = \"CREATE TABLE IF NOT EXISTS all_users_who_played_song\"\n",
    "query = query + \"(song text,session_id int,fname text,lname text, \"\n",
    "query = query + \"PRIMARY KEY(song,session_id))\"\n",
    "try:\n",
    "    session.execute(query)\n",
    "except Exception as e:\n",
    "    print(\"Error while creating all_users_who_played_song table\")\n",
    "    print(e)                    "
   ]
  },
  {
   "cell_type": "code",
   "execution_count": 92,
   "metadata": {
    "editable": true
   },
   "outputs": [],
   "source": [
    "#open file\n",
    "with open(file, encoding = 'utf8') as f:\n",
    "    csvreader = csv.reader(f)\n",
    "    next(csvreader) # skip header\n",
    "#read content line by line\n",
    "    for line in csvreader:\n",
    "        #build INSERT query\n",
    "        query = \"INSERT INTO all_users_who_played_song (song,session_id,fname,lname)\"\n",
    "        query = query + \"VALUES (%s,%s,%s,%s)\"\n",
    "        try:\n",
    "            #execute INSERT with values from the current line read from the file\n",
    "            session.execute(query,(line[9],int(line[8]),line[1],line[4]))\n",
    "        except Exception as e:\n",
    "            print(\"Error while inserting Song: {} and Session: {}\".format(line[9],line[8]))\n",
    "            print(e)"
   ]
  },
  {
   "cell_type": "markdown",
   "metadata": {
    "editable": true
   },
   "source": [
    "### Query the table created and loaded above to validate data"
   ]
  },
  {
   "cell_type": "code",
   "execution_count": 94,
   "metadata": {
    "editable": true
   },
   "outputs": [
    {
     "data": {
      "text/html": [
       "<div>\n",
       "<style scoped>\n",
       "    .dataframe tbody tr th:only-of-type {\n",
       "        vertical-align: middle;\n",
       "    }\n",
       "\n",
       "    .dataframe tbody tr th {\n",
       "        vertical-align: top;\n",
       "    }\n",
       "\n",
       "    .dataframe thead th {\n",
       "        text-align: right;\n",
       "    }\n",
       "</style>\n",
       "<table border=\"1\" class=\"dataframe\">\n",
       "  <thead>\n",
       "    <tr style=\"text-align: right;\">\n",
       "      <th></th>\n",
       "      <th>User First Name</th>\n",
       "      <th>User Last Name</th>\n",
       "    </tr>\n",
       "  </thead>\n",
       "  <tbody>\n",
       "    <tr>\n",
       "      <th>0</th>\n",
       "      <td>Sara</td>\n",
       "      <td>Johnson</td>\n",
       "    </tr>\n",
       "    <tr>\n",
       "      <th>1</th>\n",
       "      <td>Lily</td>\n",
       "      <td>Koch</td>\n",
       "    </tr>\n",
       "  </tbody>\n",
       "</table>\n",
       "</div>"
      ],
      "text/plain": [
       "  User First Name User Last Name\n",
       "0            Sara        Johnson\n",
       "1            Lily           Koch"
      ]
     },
     "execution_count": 94,
     "metadata": {},
     "output_type": "execute_result"
    }
   ],
   "source": [
    "## Build SELECT query to validate data loaded above\n",
    "query = \"SELECT fname,lname \"\n",
    "query = query + \"FROM all_users_who_played_song \"\n",
    "query = query + \"WHERE song='Secrets'\"\n",
    "\n",
    "#execute query\n",
    "try:\n",
    "    rows = session.execute(query)\n",
    "except Exception as e:\n",
    "    print(\"Error while querying song_played\")\n",
    "    print(e)\n",
    "\n",
    "#convert results inta DataFrame for better presentation\n",
    "result = pd.DataFrame(list(rows),columns=['User First Name','User Last Name'])\n",
    "result"
   ]
  },
  {
   "cell_type": "markdown",
   "metadata": {
    "editable": true
   },
   "source": [
    "### Drop the tables before closing out the sessions"
   ]
  },
  {
   "cell_type": "code",
   "execution_count": 95,
   "metadata": {
    "editable": true
   },
   "outputs": [],
   "source": [
    "#create DROP statements for all the three tables\n",
    "drop_table1 = \"DROP TABLE IF EXISTS song_played\"\n",
    "drop_table2 = \"DROP TABLE IF EXISTS all_songs_played_in_session\"\n",
    "drop_table3 = \"DROP TABLE IF EXISTS all_users_who_played_song\"\n",
    "\n",
    "#create list of all the above queries\n",
    "drop_table_queries = [drop_table1,drop_table2,drop_table3]\n",
    "\n",
    "#iterate through the list and execute each DROP statement\n",
    "for drop_table in drop_table_queries:\n",
    "    try:\n",
    "        session.execute(drop_table)\n",
    "    except Excetion as e:\n",
    "        print(\"Error while executing: {}\".format(drop_table))\n",
    "        print(e)\n"
   ]
  },
  {
   "cell_type": "markdown",
   "metadata": {
    "editable": true
   },
   "source": [
    "### Close the session and cluster connection¶"
   ]
  },
  {
   "cell_type": "code",
   "execution_count": 96,
   "metadata": {
    "editable": true
   },
   "outputs": [],
   "source": [
    "session.shutdown()\n",
    "cluster.shutdown()"
   ]
  }
 ],
 "metadata": {
  "kernelspec": {
   "display_name": "Python 3",
   "language": "python",
   "name": "python3"
  },
  "language_info": {
   "codemirror_mode": {
    "name": "ipython",
    "version": 3
   },
   "file_extension": ".py",
   "mimetype": "text/x-python",
   "name": "python",
   "nbconvert_exporter": "python",
   "pygments_lexer": "ipython3",
   "version": "3.6.3"
  }
 },
 "nbformat": 4,
 "nbformat_minor": 4
}
